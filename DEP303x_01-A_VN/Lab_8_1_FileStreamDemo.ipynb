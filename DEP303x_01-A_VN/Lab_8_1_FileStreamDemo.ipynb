{
  "cells": [
    {
      "cell_type": "markdown",
      "metadata": {
        "id": "ZaL70vgSqsqe"
      },
      "source": [
        "# Lab 8.1: FileStreamDemo\n",
        "\n",
        "## Tổng quan bài tập\n",
        "**Đề bài**: Hãy hoàn thiện các phần `[...]` để hoàn thiện đoạn code và giải quyết bài toán theo yêu cầu.\n",
        "\n",
        "## Tài nguyên tham khảo\n",
        "\n",
        "Bạn có thể tải tập Dataset tại [link sau](https://drive.google.com/drive/folders/1cjoBjN2TyJ99A1NrZPNgqEkrAkPIaWDy?usp=sharing). Sau đó đưa lên Google Drive và kết nối với Colab là có thể sử dụng được. Tập dữ liệu là 3 file .json với cấu trúc như sau:\n",
        "```\n",
        "root\n",
        " |-- CESS: double (nullable = true)\n",
        " |-- CGST: double (nullable = true)\n",
        " |-- CashierID: string (nullable = true)\n",
        " |-- CreatedTime: long (nullable = true)\n",
        " |-- CustomerCardNo: string (nullable = true)\n",
        " |-- CustomerType: string (nullable = true)\n",
        " |-- DeliveryAddress: struct (nullable = true)\n",
        " |    |-- AddressLine: string (nullable = true)\n",
        " |    |-- City: string (nullable = true)\n",
        " |    |-- ContactNumber: string (nullable = true)\n",
        " |    |-- PinCode: string (nullable = true)\n",
        " |    |-- State: string (nullable = true)\n",
        " |-- DeliveryType: string (nullable = true)\n",
        " |-- InvoiceLineItems: array (nullable = true)\n",
        " |    |-- element: struct (containsNull = true)\n",
        " |    |    |-- ItemCode: string (nullable = true)\n",
        " |    |    |-- ItemDescription: string (nullable = true)\n",
        " |    |    |-- ItemPrice: double (nullable = true)\n",
        " |    |    |-- ItemQty: long (nullable = true)\n",
        " |    |    |-- TotalValue: double (nullable = true)\n",
        " |-- InvoiceNumber: string (nullable = true)\n",
        " |-- NumberOfItems: long (nullable = true)\n",
        " |-- PaymentMethod: string (nullable = true)\n",
        " |-- PosID: string (nullable = true)\n",
        " |-- SGST: double (nullable = true)\n",
        " |-- StoreID: string (nullable = true)\n",
        " |-- TaxableAmount: double (nullable = true)\n",
        " |-- TotalAmount: double (nullable = true)\n",
        "\n",
        "```\n"
      ]
    },
    {
      "cell_type": "markdown",
      "metadata": {},
      "source": [
        "## Chuẩn bị\n",
        "\n",
        "Cài đặt miniconda3 để tạo kernel cho jupyter notebook.\n",
        "\n",
        "Tạo môi trường .conda để chạy jupyter ( conda đang chạy Python 3.12.1, pyspark 3.5.0)."
      ]
    },
    {
      "cell_type": "markdown",
      "metadata": {
        "id": "t0yzaQQNDKoV"
      },
      "source": [
        "# FileStreamDemo\n",
        "\n",
        "Bạn sẽ cần khởi tạo 1 SparkSesson để có thể bắt đầu Spark."
      ]
    },
    {
      "cell_type": "code",
      "execution_count": 1,
      "metadata": {
        "id": "BjqT5XXj80P8"
      },
      "outputs": [],
      "source": [
        "from pyspark.sql import SparkSession\n",
        "from pyspark.sql.functions import expr\n",
        "\n",
        "spark = SparkSession \\\n",
        "    .builder \\\n",
        "    .appName(\"File Streaming Demo\") \\\n",
        "    .master(\"local[3]\") \\\n",
        "    .config(\"spark.streaming.stopGracefullyOnShutdown\", \"true\") \\\n",
        "    .config(\"spark.sql.streaming.schemaInference\", \"true\") \\\n",
        "    .getOrCreate()\n",
        "\n",
        "sc = spark.sparkContext"
      ]
    },
    {
      "cell_type": "markdown",
      "metadata": {
        "id": "Zg-XdAQGJvzu"
      },
      "source": [
        "Bạn hãy viết một chương trình Spark Streamming để đọc dữ liệu từ các file đó và trích xuất dữ liệu từ các trường `InvoiceLineItems` về dạng dữ liệu có cấu trúc như sau:\n",
        "```\n",
        "root\n",
        " |-- ItemCode: string (nullable = true)\n",
        " |-- ItemDescription: string (nullable = true)\n",
        " |-- ItemPrice: double (nullable = true)\n",
        " |-- ItemQty: long (nullable = true)\n",
        " |-- TotalValue: double (nullable = true)\n",
        "```\n",
        "Ví dụ:\n",
        "```\n",
        "+--------+-----------------+---------+-------+----------+\n",
        "|ItemCode|  ItemDescription|ItemPrice|ItemQty|TotalValue|\n",
        "+--------+-----------------+---------+-------+----------+\n",
        "|     258|           Closet|   1687.0|      2|    3374.0|\n",
        "|     538|Grandmother clock|   1301.0|      1|    1301.0|\n",
        "|     528| Projection clock|   2365.0|      1|    2365.0|\n",
        "|     673|    Dough scraper|    980.0|      2|    1960.0|\n",
        "|     593| Hanging curtains|   1896.0|      2|    3792.0|\n",
        "+--------+-----------------+---------+-------+----------+\n",
        "```"
      ]
    },
    {
      "cell_type": "code",
      "execution_count": 4,
      "metadata": {
        "colab": {
          "base_uri": "https://localhost:8080/",
          "height": 391
        },
        "id": "GQ6fkhCaJvzw",
        "outputId": "9b917754-0de3-496a-cedd-bc4e2907af98"
      },
      "outputs": [
        {
          "name": "stdout",
          "output_type": "stream",
          "text": [
            "Flattened Invoice Writer started\n"
          ]
        }
      ],
      "source": [
        "# Đọc dữ liệu từ file\n",
        "# Bạn cần config để Spark chỉ đọc nhiều nhất là 1 file mỗi batch\n",
        "raw_df = spark.readStream \\\n",
        "\t.option(\"maxFilesPerTrigger\", 1) \\\n",
        "\t.json(\"lab8_input\")\n",
        "\n",
        "# Làm phẳng các phần tử của mảng InvoiceLineItems, bạn có thể sử dụng explode.\n",
        "explode_df = raw_df.selectExpr(\"explode(InvoiceLineItems) as LineItem\")\n",
        "\n",
        "# Lấy các dữ liệu từ Dataframe\n",
        "flattened_df = explode_df \\\n",
        "\t.withColumn(\"ItemCode\", expr(\"LineItem.ItemCode\")) \\\n",
        "\t.withColumn(\"ItemDescription\", expr(\"LineItem.ItemDescription\")) \\\n",
        "\t.withColumn(\"ItemPrice\", expr(\"LineItem.ItemPrice\")) \\\n",
        "\t.withColumn(\"ItemQty\", expr(\"LineItem.ItemQty\")) \\\n",
        "\t.withColumn(\"TotalValue\", expr(\"LineItem.TotalValue\")) \\\n",
        "\t.drop(\"LineItem\")\n",
        "\n",
        "# Lưu dữ liệu và tạo các checkpoint\n",
        "# Bạn hãy thiết lập để mỗi lần trigger cách nhau 1 phút và Output mode là Append\n",
        "invoiceWriterQuery = flattened_df.writeStream \\\n",
        "\t.format(\"json\") \\\n",
        "\t.queryName(\"Flattened Invoice Writer\") \\\n",
        "\t.outputMode(\"append\") \\\n",
        "\t.option(\"path\", \"lab8_output\") \\\n",
        "\t.option(\"checkpointLocation\", \"lab8_chk-point-dir\") \\\n",
        "\t.trigger(processingTime=\"1 minute\") \\\n",
        "\t.start()\n",
        "\n",
        "print(\"Flattened Invoice Writer started\")\n",
        "invoiceWriterQuery.awaitTermination()"
      ]
    }
  ],
  "metadata": {
    "colab": {
      "provenance": []
    },
    "kernelspec": {
      "display_name": "venv",
      "language": "python",
      "name": "python3"
    },
    "language_info": {
      "codemirror_mode": {
        "name": "ipython",
        "version": 3
      },
      "file_extension": ".py",
      "mimetype": "text/x-python",
      "name": "python",
      "nbconvert_exporter": "python",
      "pygments_lexer": "ipython3",
      "version": "3.12.1"
    }
  },
  "nbformat": 4,
  "nbformat_minor": 0
}
